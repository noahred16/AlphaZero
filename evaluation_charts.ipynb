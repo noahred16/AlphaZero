{
 "cells": [
  {
   "cell_type": "code",
   "execution_count": 1,
   "metadata": {},
   "outputs": [
    {
     "name": "stdout",
     "output_type": "stream",
     "text": [
      "Evaluating with exploration_constant=0.0, iterations=10\n",
      "Evaluating SupervisedMCTS on test data with exploration constant: 0.0, and iterations: 10\n"
     ]
    },
    {
     "name": "stderr",
     "output_type": "stream",
     "text": [
      "Evaluating MCTS: 100%|██████████| 1000/1000 [00:13<00:00, 75.76board/s]\n"
     ]
    },
    {
     "name": "stdout",
     "output_type": "stream",
     "text": [
      "SupervisedMCTS Test Data Accuracy: 99.60% over 1000 samples. 4 incorrect.\n",
      "Evaluating with exploration_constant=0.5, iterations=10\n",
      "Evaluating SupervisedMCTS on test data with exploration constant: 0.5, and iterations: 10\n"
     ]
    },
    {
     "name": "stderr",
     "output_type": "stream",
     "text": [
      "Evaluating MCTS: 100%|██████████| 1000/1000 [00:14<00:00, 70.21board/s]\n"
     ]
    },
    {
     "name": "stdout",
     "output_type": "stream",
     "text": [
      "SupervisedMCTS Test Data Accuracy: 99.50% over 1000 samples. 5 incorrect.\n",
      "Evaluating with exploration_constant=1.0, iterations=10\n",
      "Evaluating SupervisedMCTS on test data with exploration constant: 1.0, and iterations: 10\n"
     ]
    },
    {
     "name": "stderr",
     "output_type": "stream",
     "text": [
      "Evaluating MCTS: 100%|██████████| 1000/1000 [00:16<00:00, 60.79board/s]\n"
     ]
    },
    {
     "name": "stdout",
     "output_type": "stream",
     "text": [
      "SupervisedMCTS Test Data Accuracy: 97.70% over 1000 samples. 23 incorrect.\n",
      "Evaluating with exploration_constant=1.5, iterations=10\n",
      "Evaluating SupervisedMCTS on test data with exploration constant: 1.5, and iterations: 10\n"
     ]
    },
    {
     "name": "stderr",
     "output_type": "stream",
     "text": [
      "Evaluating MCTS: 100%|██████████| 1000/1000 [00:13<00:00, 75.13board/s]\n"
     ]
    },
    {
     "name": "stdout",
     "output_type": "stream",
     "text": [
      "SupervisedMCTS Test Data Accuracy: 97.60% over 1000 samples. 24 incorrect.\n",
      "Evaluating with exploration_constant=2.0, iterations=10\n",
      "Evaluating SupervisedMCTS on test data with exploration constant: 2.0, and iterations: 10\n"
     ]
    },
    {
     "name": "stderr",
     "output_type": "stream",
     "text": [
      "Evaluating MCTS: 100%|██████████| 1000/1000 [00:14<00:00, 69.07board/s]\n"
     ]
    },
    {
     "name": "stdout",
     "output_type": "stream",
     "text": [
      "SupervisedMCTS Test Data Accuracy: 96.60% over 1000 samples. 34 incorrect.\n",
      "Evaluating with exploration_constant=3.0, iterations=10\n",
      "Evaluating SupervisedMCTS on test data with exploration constant: 3.0, and iterations: 10\n"
     ]
    },
    {
     "name": "stderr",
     "output_type": "stream",
     "text": [
      "Evaluating MCTS: 100%|██████████| 1000/1000 [00:13<00:00, 74.66board/s]\n"
     ]
    },
    {
     "name": "stdout",
     "output_type": "stream",
     "text": [
      "SupervisedMCTS Test Data Accuracy: 98.20% over 1000 samples. 18 incorrect.\n",
      "Evaluating with exploration_constant=0.0, iterations=25\n",
      "Evaluating SupervisedMCTS on test data with exploration constant: 0.0, and iterations: 25\n"
     ]
    },
    {
     "name": "stderr",
     "output_type": "stream",
     "text": [
      "Evaluating MCTS: 100%|██████████| 1000/1000 [00:15<00:00, 63.24board/s]\n"
     ]
    },
    {
     "name": "stdout",
     "output_type": "stream",
     "text": [
      "SupervisedMCTS Test Data Accuracy: 99.20% over 1000 samples. 8 incorrect.\n",
      "Evaluating with exploration_constant=0.5, iterations=25\n",
      "Evaluating SupervisedMCTS on test data with exploration constant: 0.5, and iterations: 25\n"
     ]
    },
    {
     "name": "stderr",
     "output_type": "stream",
     "text": [
      "Evaluating MCTS: 100%|██████████| 1000/1000 [00:16<00:00, 61.23board/s]\n"
     ]
    },
    {
     "name": "stdout",
     "output_type": "stream",
     "text": [
      "SupervisedMCTS Test Data Accuracy: 99.60% over 1000 samples. 4 incorrect.\n",
      "Evaluating with exploration_constant=1.0, iterations=25\n",
      "Evaluating SupervisedMCTS on test data with exploration constant: 1.0, and iterations: 25\n"
     ]
    },
    {
     "name": "stderr",
     "output_type": "stream",
     "text": [
      "Evaluating MCTS: 100%|██████████| 1000/1000 [00:15<00:00, 63.09board/s]\n"
     ]
    },
    {
     "name": "stdout",
     "output_type": "stream",
     "text": [
      "SupervisedMCTS Test Data Accuracy: 99.40% over 1000 samples. 6 incorrect.\n",
      "Evaluating with exploration_constant=1.5, iterations=25\n",
      "Evaluating SupervisedMCTS on test data with exploration constant: 1.5, and iterations: 25\n"
     ]
    },
    {
     "name": "stderr",
     "output_type": "stream",
     "text": [
      "Evaluating MCTS: 100%|██████████| 1000/1000 [00:15<00:00, 63.11board/s]\n"
     ]
    },
    {
     "name": "stdout",
     "output_type": "stream",
     "text": [
      "SupervisedMCTS Test Data Accuracy: 99.10% over 1000 samples. 9 incorrect.\n",
      "Evaluating with exploration_constant=2.0, iterations=25\n",
      "Evaluating SupervisedMCTS on test data with exploration constant: 2.0, and iterations: 25\n"
     ]
    },
    {
     "name": "stderr",
     "output_type": "stream",
     "text": [
      "Evaluating MCTS: 100%|██████████| 1000/1000 [00:17<00:00, 58.43board/s]\n"
     ]
    },
    {
     "name": "stdout",
     "output_type": "stream",
     "text": [
      "SupervisedMCTS Test Data Accuracy: 99.10% over 1000 samples. 9 incorrect.\n",
      "Evaluating with exploration_constant=3.0, iterations=25\n",
      "Evaluating SupervisedMCTS on test data with exploration constant: 3.0, and iterations: 25\n"
     ]
    },
    {
     "name": "stderr",
     "output_type": "stream",
     "text": [
      "Evaluating MCTS: 100%|██████████| 1000/1000 [00:15<00:00, 62.89board/s]\n"
     ]
    },
    {
     "name": "stdout",
     "output_type": "stream",
     "text": [
      "SupervisedMCTS Test Data Accuracy: 99.00% over 1000 samples. 10 incorrect.\n",
      "Evaluating with exploration_constant=0.0, iterations=50\n",
      "Evaluating SupervisedMCTS on test data with exploration constant: 0.0, and iterations: 50\n"
     ]
    },
    {
     "name": "stderr",
     "output_type": "stream",
     "text": [
      "Evaluating MCTS: 100%|██████████| 1000/1000 [00:16<00:00, 61.57board/s]\n"
     ]
    },
    {
     "name": "stdout",
     "output_type": "stream",
     "text": [
      "SupervisedMCTS Test Data Accuracy: 99.60% over 1000 samples. 4 incorrect.\n",
      "Evaluating with exploration_constant=0.5, iterations=50\n",
      "Evaluating SupervisedMCTS on test data with exploration constant: 0.5, and iterations: 50\n"
     ]
    },
    {
     "name": "stderr",
     "output_type": "stream",
     "text": [
      "Evaluating MCTS: 100%|██████████| 1000/1000 [00:18<00:00, 53.50board/s]\n"
     ]
    },
    {
     "name": "stdout",
     "output_type": "stream",
     "text": [
      "SupervisedMCTS Test Data Accuracy: 99.50% over 1000 samples. 5 incorrect.\n",
      "Evaluating with exploration_constant=1.0, iterations=50\n",
      "Evaluating SupervisedMCTS on test data with exploration constant: 1.0, and iterations: 50\n"
     ]
    },
    {
     "name": "stderr",
     "output_type": "stream",
     "text": [
      "Evaluating MCTS: 100%|██████████| 1000/1000 [00:19<00:00, 52.53board/s]\n"
     ]
    },
    {
     "name": "stdout",
     "output_type": "stream",
     "text": [
      "SupervisedMCTS Test Data Accuracy: 99.50% over 1000 samples. 5 incorrect.\n",
      "Evaluating with exploration_constant=1.5, iterations=50\n",
      "Evaluating SupervisedMCTS on test data with exploration constant: 1.5, and iterations: 50\n"
     ]
    },
    {
     "name": "stderr",
     "output_type": "stream",
     "text": [
      "Evaluating MCTS: 100%|██████████| 1000/1000 [00:19<00:00, 50.08board/s]\n"
     ]
    },
    {
     "name": "stdout",
     "output_type": "stream",
     "text": [
      "SupervisedMCTS Test Data Accuracy: 99.40% over 1000 samples. 6 incorrect.\n",
      "Evaluating with exploration_constant=2.0, iterations=50\n",
      "Evaluating SupervisedMCTS on test data with exploration constant: 2.0, and iterations: 50\n"
     ]
    },
    {
     "name": "stderr",
     "output_type": "stream",
     "text": [
      "Evaluating MCTS: 100%|██████████| 1000/1000 [00:19<00:00, 52.47board/s]\n"
     ]
    },
    {
     "name": "stdout",
     "output_type": "stream",
     "text": [
      "SupervisedMCTS Test Data Accuracy: 99.60% over 1000 samples. 4 incorrect.\n",
      "Evaluating with exploration_constant=3.0, iterations=50\n",
      "Evaluating SupervisedMCTS on test data with exploration constant: 3.0, and iterations: 50\n"
     ]
    },
    {
     "name": "stderr",
     "output_type": "stream",
     "text": [
      "Evaluating MCTS: 100%|██████████| 1000/1000 [00:18<00:00, 52.81board/s]\n"
     ]
    },
    {
     "name": "stdout",
     "output_type": "stream",
     "text": [
      "SupervisedMCTS Test Data Accuracy: 98.60% over 1000 samples. 14 incorrect.\n",
      "Evaluating with exploration_constant=0.0, iterations=100\n",
      "Evaluating SupervisedMCTS on test data with exploration constant: 0.0, and iterations: 100\n"
     ]
    },
    {
     "name": "stderr",
     "output_type": "stream",
     "text": [
      "Evaluating MCTS: 100%|██████████| 1000/1000 [00:17<00:00, 57.58board/s]\n"
     ]
    },
    {
     "name": "stdout",
     "output_type": "stream",
     "text": [
      "SupervisedMCTS Test Data Accuracy: 100.00% over 1000 samples. 0 incorrect.\n",
      "Evaluating with exploration_constant=0.5, iterations=100\n",
      "Evaluating SupervisedMCTS on test data with exploration constant: 0.5, and iterations: 100\n"
     ]
    },
    {
     "name": "stderr",
     "output_type": "stream",
     "text": [
      "Evaluating MCTS: 100%|██████████| 1000/1000 [00:22<00:00, 44.02board/s]\n"
     ]
    },
    {
     "name": "stdout",
     "output_type": "stream",
     "text": [
      "SupervisedMCTS Test Data Accuracy: 99.60% over 1000 samples. 4 incorrect.\n",
      "Evaluating with exploration_constant=1.0, iterations=100\n",
      "Evaluating SupervisedMCTS on test data with exploration constant: 1.0, and iterations: 100\n"
     ]
    },
    {
     "name": "stderr",
     "output_type": "stream",
     "text": [
      "Evaluating MCTS: 100%|██████████| 1000/1000 [00:23<00:00, 42.10board/s]\n"
     ]
    },
    {
     "name": "stdout",
     "output_type": "stream",
     "text": [
      "SupervisedMCTS Test Data Accuracy: 99.90% over 1000 samples. 1 incorrect.\n",
      "Evaluating with exploration_constant=1.5, iterations=100\n",
      "Evaluating SupervisedMCTS on test data with exploration constant: 1.5, and iterations: 100\n"
     ]
    },
    {
     "name": "stderr",
     "output_type": "stream",
     "text": [
      "Evaluating MCTS: 100%|██████████| 1000/1000 [00:23<00:00, 42.91board/s]\n"
     ]
    },
    {
     "name": "stdout",
     "output_type": "stream",
     "text": [
      "SupervisedMCTS Test Data Accuracy: 99.80% over 1000 samples. 2 incorrect.\n",
      "Evaluating with exploration_constant=2.0, iterations=100\n",
      "Evaluating SupervisedMCTS on test data with exploration constant: 2.0, and iterations: 100\n"
     ]
    },
    {
     "name": "stderr",
     "output_type": "stream",
     "text": [
      "Evaluating MCTS: 100%|██████████| 1000/1000 [00:23<00:00, 42.15board/s]\n"
     ]
    },
    {
     "name": "stdout",
     "output_type": "stream",
     "text": [
      "SupervisedMCTS Test Data Accuracy: 99.60% over 1000 samples. 4 incorrect.\n",
      "Evaluating with exploration_constant=3.0, iterations=100\n",
      "Evaluating SupervisedMCTS on test data with exploration constant: 3.0, and iterations: 100\n"
     ]
    },
    {
     "name": "stderr",
     "output_type": "stream",
     "text": [
      "Evaluating MCTS: 100%|██████████| 1000/1000 [00:26<00:00, 38.32board/s]\n"
     ]
    },
    {
     "name": "stdout",
     "output_type": "stream",
     "text": [
      "SupervisedMCTS Test Data Accuracy: 99.50% over 1000 samples. 5 incorrect.\n",
      "Evaluating with exploration_constant=0.0, iterations=200\n",
      "Evaluating SupervisedMCTS on test data with exploration constant: 0.0, and iterations: 200\n"
     ]
    },
    {
     "name": "stderr",
     "output_type": "stream",
     "text": [
      "Evaluating MCTS: 100%|██████████| 1000/1000 [00:19<00:00, 50.45board/s]\n"
     ]
    },
    {
     "name": "stdout",
     "output_type": "stream",
     "text": [
      "SupervisedMCTS Test Data Accuracy: 99.90% over 1000 samples. 1 incorrect.\n",
      "Evaluating with exploration_constant=0.5, iterations=200\n",
      "Evaluating SupervisedMCTS on test data with exploration constant: 0.5, and iterations: 200\n"
     ]
    },
    {
     "name": "stderr",
     "output_type": "stream",
     "text": [
      "Evaluating MCTS: 100%|██████████| 1000/1000 [00:31<00:00, 31.37board/s]\n"
     ]
    },
    {
     "name": "stdout",
     "output_type": "stream",
     "text": [
      "SupervisedMCTS Test Data Accuracy: 99.70% over 1000 samples. 3 incorrect.\n",
      "Evaluating with exploration_constant=1.0, iterations=200\n",
      "Evaluating SupervisedMCTS on test data with exploration constant: 1.0, and iterations: 200\n"
     ]
    },
    {
     "name": "stderr",
     "output_type": "stream",
     "text": [
      "Evaluating MCTS: 100%|██████████| 1000/1000 [00:35<00:00, 28.54board/s]\n"
     ]
    },
    {
     "name": "stdout",
     "output_type": "stream",
     "text": [
      "SupervisedMCTS Test Data Accuracy: 99.80% over 1000 samples. 2 incorrect.\n",
      "Evaluating with exploration_constant=1.5, iterations=200\n",
      "Evaluating SupervisedMCTS on test data with exploration constant: 1.5, and iterations: 200\n"
     ]
    },
    {
     "name": "stderr",
     "output_type": "stream",
     "text": [
      "Evaluating MCTS: 100%|██████████| 1000/1000 [00:32<00:00, 31.02board/s]\n"
     ]
    },
    {
     "name": "stdout",
     "output_type": "stream",
     "text": [
      "SupervisedMCTS Test Data Accuracy: 99.90% over 1000 samples. 1 incorrect.\n",
      "Evaluating with exploration_constant=2.0, iterations=200\n",
      "Evaluating SupervisedMCTS on test data with exploration constant: 2.0, and iterations: 200\n"
     ]
    },
    {
     "name": "stderr",
     "output_type": "stream",
     "text": [
      "Evaluating MCTS: 100%|██████████| 1000/1000 [00:33<00:00, 29.47board/s]\n"
     ]
    },
    {
     "name": "stdout",
     "output_type": "stream",
     "text": [
      "SupervisedMCTS Test Data Accuracy: 99.80% over 1000 samples. 2 incorrect.\n",
      "Evaluating with exploration_constant=3.0, iterations=200\n",
      "Evaluating SupervisedMCTS on test data with exploration constant: 3.0, and iterations: 200\n"
     ]
    },
    {
     "name": "stderr",
     "output_type": "stream",
     "text": [
      "Evaluating MCTS: 100%|██████████| 1000/1000 [00:31<00:00, 31.30board/s]\n"
     ]
    },
    {
     "name": "stdout",
     "output_type": "stream",
     "text": [
      "SupervisedMCTS Test Data Accuracy: 99.70% over 1000 samples. 3 incorrect.\n",
      "Evaluating with exploration_constant=0.0, iterations=400\n",
      "Evaluating SupervisedMCTS on test data with exploration constant: 0.0, and iterations: 400\n"
     ]
    },
    {
     "name": "stderr",
     "output_type": "stream",
     "text": [
      "Evaluating MCTS: 100%|██████████| 1000/1000 [00:26<00:00, 38.08board/s]\n"
     ]
    },
    {
     "name": "stdout",
     "output_type": "stream",
     "text": [
      "SupervisedMCTS Test Data Accuracy: 99.90% over 1000 samples. 1 incorrect.\n",
      "Evaluating with exploration_constant=0.5, iterations=400\n",
      "Evaluating SupervisedMCTS on test data with exploration constant: 0.5, and iterations: 400\n"
     ]
    },
    {
     "name": "stderr",
     "output_type": "stream",
     "text": [
      "Evaluating MCTS: 100%|██████████| 1000/1000 [00:41<00:00, 23.97board/s]\n"
     ]
    },
    {
     "name": "stdout",
     "output_type": "stream",
     "text": [
      "SupervisedMCTS Test Data Accuracy: 99.90% over 1000 samples. 1 incorrect.\n",
      "Evaluating with exploration_constant=1.0, iterations=400\n",
      "Evaluating SupervisedMCTS on test data with exploration constant: 1.0, and iterations: 400\n"
     ]
    },
    {
     "name": "stderr",
     "output_type": "stream",
     "text": [
      "Evaluating MCTS: 100%|██████████| 1000/1000 [00:52<00:00, 18.97board/s]\n"
     ]
    },
    {
     "name": "stdout",
     "output_type": "stream",
     "text": [
      "SupervisedMCTS Test Data Accuracy: 99.80% over 1000 samples. 2 incorrect.\n",
      "Evaluating with exploration_constant=1.5, iterations=400\n",
      "Evaluating SupervisedMCTS on test data with exploration constant: 1.5, and iterations: 400\n"
     ]
    },
    {
     "name": "stderr",
     "output_type": "stream",
     "text": [
      "Evaluating MCTS: 100%|██████████| 1000/1000 [00:51<00:00, 19.30board/s]\n"
     ]
    },
    {
     "name": "stdout",
     "output_type": "stream",
     "text": [
      "SupervisedMCTS Test Data Accuracy: 100.00% over 1000 samples. 0 incorrect.\n",
      "Evaluating with exploration_constant=2.0, iterations=400\n",
      "Evaluating SupervisedMCTS on test data with exploration constant: 2.0, and iterations: 400\n"
     ]
    },
    {
     "name": "stderr",
     "output_type": "stream",
     "text": [
      "Evaluating MCTS: 100%|██████████| 1000/1000 [00:49<00:00, 20.13board/s]\n"
     ]
    },
    {
     "name": "stdout",
     "output_type": "stream",
     "text": [
      "SupervisedMCTS Test Data Accuracy: 99.90% over 1000 samples. 1 incorrect.\n",
      "Evaluating with exploration_constant=3.0, iterations=400\n",
      "Evaluating SupervisedMCTS on test data with exploration constant: 3.0, and iterations: 400\n"
     ]
    },
    {
     "name": "stderr",
     "output_type": "stream",
     "text": [
      "Evaluating MCTS: 100%|██████████| 1000/1000 [00:44<00:00, 22.72board/s]\n"
     ]
    },
    {
     "name": "stdout",
     "output_type": "stream",
     "text": [
      "SupervisedMCTS Test Data Accuracy: 99.90% over 1000 samples. 1 incorrect.\n",
      "Evaluation results saved to supervised_mcts_evaluation.csv\n"
     ]
    }
   ],
   "source": [
    "# Code to generate data. \n",
    "from util.supervised_mcts import SupervisedMCTS, evaluate_supervised_mcts_on_test_data\n",
    "import pandas as pd\n",
    "\n",
    "exploration_constants = [0.0, 0.5, 1.0, 1.5, 2.0, 3.0]\n",
    "mcts_iterations = [10, 25, 50, 100, 200, 400]\n",
    "\n",
    "'''\n",
    "ANALYSIS\n",
    "There is expectation that as the number of iterations increases, the accuracy will also increase.\n",
    "It'll be interesting to see what exploration constant works best with each number of iterations. \n",
    "I expect that as the number of iterations increases, a higher exploration constant will make more sense. \n",
    "\n",
    "TODO compare the performance of supervised MCTS with PUCT vs UCT. \n",
    "'''\n",
    "\n",
    "columns = [\"exploration_constant\", \"mcts_iterations\", \"accuracy\"]\n",
    "data = []\n",
    "\n",
    "# for iterations in reversed(mcts_iterations):\n",
    "#     for exploration_constant in reversed(exploration_constants):\n",
    "\n",
    "for iterations in mcts_iterations:\n",
    "    for exploration_constant in exploration_constants:\n",
    "        print(\n",
    "            f\"Evaluating with exploration_constant={exploration_constant}, iterations={iterations}\"\n",
    "        )\n",
    "        num_samples = 1_000\n",
    "        accuracy = evaluate_supervised_mcts_on_test_data(\n",
    "            num_samples=num_samples,\n",
    "            mcts_iterations=iterations,\n",
    "            exploration_constant=exploration_constant,\n",
    "        )\n",
    "        data.append([exploration_constant, iterations, accuracy])\n",
    "\n",
    "# save as a CSV file\n",
    "df = pd.DataFrame(data, columns=columns)\n",
    "df.to_csv(\"data/supervised_mcts_evaluation_100k.csv\", index=False)\n",
    "print(\"Evaluation results saved to supervised_mcts_evaluation.csv\")"
   ]
  },
  {
   "cell_type": "code",
   "execution_count": 6,
   "metadata": {},
   "outputs": [
    {
     "data": {
      "image/png": "[encoded data removed]",
      "text/plain": [
       "<Figure size 1000x600 with 1 Axes>"
      ]
     },
     "metadata": {},
     "output_type": "display_data"
    }
   ],
   "source": [
    "import matplotlib.pyplot as plt\n",
    "\n",
    "# factors:\n",
    "# exploration constant: [0, 0.5, 1.0, 1.5, 2.0, 3.0, 5.0, 10.0]\n",
    "# number of iterations: [100, 500, 1000, 5000]\n",
    "\n",
    "file = \"data/supervised_mcts_evaluation_100k.csv\"\n",
    "columns = [\"exploration_constant\", \"mcts_iterations\", \"accuracy\"]\n",
    "\n",
    "data = pd.read_csv(file, usecols=columns)\n",
    "\n",
    "# Create a single figure\n",
    "plt.figure(figsize=(10, 6))\n",
    "\n",
    "# Plot a line for each exploration constant\n",
    "for constant in data[\"exploration_constant\"].unique():\n",
    "    df = data[data[\"exploration_constant\"] == constant]\n",
    "    plt.plot(df[\"mcts_iterations\"], df[\"accuracy\"], marker='o', label=f'C={constant}')\n",
    "\n",
    "# Add title and labels\n",
    "plt.title('Accuracy vs. MCTS Iterations for Different Exploration Constants')\n",
    "plt.xlabel('MCTS Iterations')\n",
    "plt.ylabel('Accuracy')\n",
    "# Use linear scale instead of log scale\n",
    "# Create custom ticks from 0 to 400 in steps of 50\n",
    "x_ticks = range(0, 401, 50)\n",
    "plt.xticks(x_ticks, [str(tick) for tick in x_ticks])\n",
    "\n",
    "plt.grid(True, alpha=0.3)\n",
    "plt.legend(title='Exploration Constant')\n",
    "\n",
    "# Improve readability\n",
    "plt.tight_layout()\n",
    "\n",
    "# Save or show the plot\n",
    "# plt.savefig('graphs/all_exploration_constants.png')\n",
    "plt.show()"
   ]
  },
  {
   "cell_type": "code",
   "execution_count": 3,
   "metadata": {},
   "outputs": [
    {
     "data": {
      "text/plain": [
       "\"\\nANALYSIS\\n\\nmcts_iterations - It is interesting that performance seems to get worse when increasing the number of iterations that we run mcts for. This seems couterintuitive as I'd expect that by doing more iterations, we would build a larger tree and so therefore also increase the accuracy of the model.\\n\\nexploration_constant - This is also interesting, this suggests that using a constant of 0 works the best which would essentially mean we are not exploring at all and pretty much depending on the network entirely to make decisions based on looking at the available moves from the current state. \\n\\nI'm excited to look more at this to see if there is a bug or something. It really feels counter intuitive. PUCT may improve performance as well. \\n\\n\""
      ]
     },
     "execution_count": 3,
     "metadata": {},
     "output_type": "execute_result"
    }
   ],
   "source": [
    "'''\n",
    "ANALYSIS\n",
    "\n",
    "mcts_iterations - It is interesting that performance seems to get worse when increasing the number of iterations that we run mcts for. This seems couterintuitive as I'd expect that by doing more iterations, we would build a larger tree and so therefore also increase the accuracy of the model.\n",
    "\n",
    "exploration_constant - This is also interesting, this suggests that using a constant of 0 works the best which would essentially mean we are not exploring at all and pretty much depending on the network entirely to make decisions based on looking at the available moves from the current state. \n",
    "\n",
    "I'm excited to look more at this to see if there is a bug or something. It really feels counter intuitive. PUCT may improve performance as well. \n",
    "\n",
    "'''"
   ]
  },
  {
   "cell_type": "code",
   "execution_count": null,
   "metadata": {},
   "outputs": [],
   "source": []
  }
 ],
 "metadata": {
  "kernelspec": {
   "display_name": "Python 3",
   "language": "python",
   "name": "python3"
  },
  "language_info": {
   "codemirror_mode": {
    "name": "ipython",
    "version": 3
   },
   "file_extension": ".py",
   "mimetype": "text/x-python",
   "name": "python",
   "nbconvert_exporter": "python",
   "pygments_lexer": "ipython3",
   "version": "3.12.10"
  }
 },
 "nbformat": 4,
 "nbformat_minor": 2
}
